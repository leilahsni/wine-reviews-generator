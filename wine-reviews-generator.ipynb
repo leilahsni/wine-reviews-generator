{
  "nbformat": 4,
  "nbformat_minor": 0,
  "metadata": {
    "colab": {
      "provenance": []
    },
    "kernelspec": {
      "name": "python3",
      "display_name": "Python 3"
    },
    "language_info": {
      "name": "python"
    }
  },
  "cells": [
    {
      "cell_type": "markdown",
      "source": [
        "### Imports"
      ],
      "metadata": {
        "id": "xSRouIb15fEF"
      }
    },
    {
      "cell_type": "code",
      "execution_count": 1,
      "metadata": {
        "colab": {
          "base_uri": "https://localhost:8080/"
        },
        "id": "xOHRWE055b4k",
        "outputId": "44f603d9-6ff0-4155-a5dd-1ffcdb7ca045"
      },
      "outputs": [
        {
          "output_type": "stream",
          "name": "stderr",
          "text": [
            "[nltk_data] Downloading package punkt to /root/nltk_data...\n",
            "[nltk_data]   Package punkt is already up-to-date!\n"
          ]
        },
        {
          "output_type": "execute_result",
          "data": {
            "text/plain": [
              "True"
            ]
          },
          "metadata": {},
          "execution_count": 1
        }
      ],
      "source": [
        "from collections import defaultdict\n",
        "from nltk.tokenize import word_tokenize\n",
        "from nltk import trigrams, bigrams\n",
        "import numpy as np\n",
        "import nltk\n",
        "\n",
        "nltk.download('punkt')"
      ]
    },
    {
      "cell_type": "markdown",
      "source": [
        "### Make bigrams and trigrams"
      ],
      "metadata": {
        "id": "u0-_jRaW6R0R"
      }
    },
    {
      "cell_type": "code",
      "source": [
        "with open(\"wine_reviews.txt\") as text:\n",
        "    text = text.read()\n",
        "    words = word_tokenize(text)\n",
        "    \n",
        "    word_ocurrence = {} # a dictionary to count word occurence\n",
        "    \n",
        "    for word in words:\n",
        "        if word not in word_ocurrence:\n",
        "            word_ocurrence[word] = 1\n",
        "        else:\n",
        "            word_ocurrence[word] += 1\n",
        "\n",
        "# make trigrams and bigrams\n",
        "trigrams = list(trigrams(words))\n",
        "bigrams = list(bigrams(words))"
      ],
      "metadata": {
        "id": "02agQqnY5qDl"
      },
      "execution_count": 2,
      "outputs": []
    },
    {
      "cell_type": "code",
      "source": [
        "def make_conditional_probas():\n",
        "    ''' function to calculate probabilities '''\n",
        "\n",
        "    dico = defaultdict(dict)\n",
        "\n",
        "    for trigram in trigrams:\n",
        "        dico[trigram[0:2]][trigram[2]] = trigrams.count(trigram)/bigrams.count(trigram[0:2])\n",
        "        \n",
        "    return dico\n",
        "\n",
        "dico = make_conditional_probas()"
      ],
      "metadata": {
        "id": "aJWyoR3f56ub"
      },
      "execution_count": 3,
      "outputs": []
    },
    {
      "cell_type": "markdown",
      "source": [
        "### Generate news sentences"
      ],
      "metadata": {
        "id": "_zPdUH6N6MwT"
      }
    },
    {
      "cell_type": "code",
      "source": [
        "def sample_from_discrete_distrib(distrib):\n",
        "  '''function to get random words based on probabilities'''\n",
        "\n",
        "  words, probas = zip(*distrib.items())\n",
        "  probas = np.asarray(probas).astype('float64')/np.sum(probas)\n",
        "  \n",
        "  return np.random.choice(words, p=probas)\n",
        "\n",
        "# let's make 5 sentences\n",
        "for i in range(5):\n",
        "    bigram = (\"BEGIN\", \"NOW\")\n",
        "    sentence = []\n",
        "    while True:\n",
        "        word = sample_from_discrete_distrib(dico[bigram]) # we get a sample of random words based on their probability to be next to each other\n",
        "        bigram = bigram[1], word\n",
        "        if word == \"END\":\n",
        "            break\n",
        "        sentence.append(word)\n",
        "\n",
        "    print(\" \".join(sentence))\n",
        "    print(\"\\n\")"
      ],
      "metadata": {
        "colab": {
          "base_uri": "https://localhost:8080/"
        },
        "id": "-8hNWngQ59Xe",
        "outputId": "bb951912-274e-40f8-807e-aa8d245492aa"
      },
      "execution_count": 4,
      "outputs": [
        {
          "output_type": "stream",
          "name": "stdout",
          "text": [
            "This light red delivers a beam of dark currant and raspberry fruit flavors laced with a savory twinge through the breezy , open finish . Trincadeira , Aragonez , Syrah and Alicante Bouschet . Drink now . 114,000 cases made .\n",
            "\n",
            "\n",
            "Fruity and rich , with appealing notes of black cherry , red plum and boysenberry that are fresh and juicy , layered with hints of graphite , orange zest and fresh herbs on the finish . Drink now . 35,000 cases made .\n",
            "\n",
            "\n",
            "This dry rosé offers pretty berry and plum flavors lined with tea and sandalwood notes . A white pepper note brings up the finish , where a hint of singed juniper checks in . Open-knit and ready to drink . Shiraz and Petit Verdot . Drink now . 10,000 cases made .\n",
            "\n",
            "\n",
            "Offers peppery aromas , with touches of richness to the white currant , sweet spice and floral flavors , held together by tangy acidity . This shows hot stone and floral accents . The supple texture shows fresh acidity and light tannins framing the cherry and cassis bush notes backed by a light balsamwood hint . Drink now through 2018 . 5,000 cases made .\n",
            "\n",
            "\n",
            "A zesty blend , with a dried star anise hint and backed by a light graphite note through the slightly firm finish . Drink now . 65,000 cases made .\n",
            "\n",
            "\n"
          ]
        }
      ]
    }
  ]
}